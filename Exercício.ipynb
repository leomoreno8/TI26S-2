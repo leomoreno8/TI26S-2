{
 "cells": [
  {
   "cell_type": "code",
   "execution_count": 4,
   "id": "3e0fc123",
   "metadata": {},
   "outputs": [],
   "source": [
    "import warnings\n",
    "warnings.filterwarnings('ignore')\n",
    "\n",
    "#importing the libraries\n",
    "import numpy as np\n",
    "import pandas as pd\n",
    "import matplotlib.pyplot as plt\n",
    "import seaborn as sns\n",
    "import os.path"
   ]
  },
  {
   "cell_type": "markdown",
   "id": "ffe1ff0c",
   "metadata": {},
   "source": [
    "### Etapa 1: Leitura e compreensão dos dados\n",
    "\n",
    "https://archive.ics.uci.edu/ml/datasets/Automobile\n",
    "\n",
    "Base de dados para previsão de preços de carros\n",
    "\n",
    "\n",
    " ------------------        -----------------------------------------------\n",
    " - symboling:                -3, -2, -1, 0, 1, 2, 3. #insurance risk level \n",
    " - normalized-losses:        continuous from 65 to 256.\n",
    " - make:                     alfa-romero, audi, bmw, chevrolet, dodge, honda, isuzu, jaguar, mazda, mercedes-benz, mercury,\n",
    "                             mitsubishi, nissan, peugeot, plymouth, porsche, renault, saab, subaru, toyota, volkswagen, volvo\n",
    " - fuel-type:                diesel, gas.\n",
    " - aspiration:               std, turbo.\n",
    " - num-of-doors:             four, two.\n",
    " - body-style:               hardtop, wagon, sedan, hatchback, convertible.\n",
    " - drive-wheels:             4wd, fwd, rwd.\n",
    " - engine-location:          front, rear.\n",
    " - wheel-base:               continuous from 86.6 120.9.\n",
    " - length:                   continuous from 141.1 to 208.1.\n",
    " - width:                    continuous from 60.3 to 72.3.\n",
    " - height:                   continuous from 47.8 to 59.8.\n",
    " - curb-weight:              continuous from 1488 to 4066.\n",
    " - engine-type:              dohc, dohcv, l, ohc, ohcf, ohcv, rotor.\n",
    " - num-of-cylinders:         eight, five, four, six, three, twelve, two.\n",
    " - engine-size:              continuous from 61 to 326.\n",
    " - fuel-system:              1bbl, 2bbl, 4bbl, idi, mfi, mpfi, spdi, spfi.\n",
    " - bore:                     continuous from 2.54 to 3.94.\n",
    " - stroke:                   continuous from 2.07 to 4.17.\n",
    " - compression-ratio:        continuous from 7 to 23.\n",
    " - horsepower:               continuous from 48 to 288.\n",
    " - peak-rpm:                 continuous from 4150 to 6600.\n",
    " - city-mpg:                 continuous from 13 to 49.\n",
    " - highway-mpg:              continuous from 16 to 54.\n",
    " - price:                    continuous from 5118 to 45400.\n",
    "\n",
    "\n",
    "\n",
    "### Vamos começar com as seguintes etapas:\n",
    "\n",
    "- Importando dados CarPrice_Assinment.csv usando a biblioteca de pandas\n",
    "- Compreendendo a estrutura dos dados (head, shape , describe e info)"
   ]
  },
  {
   "cell_type": "code",
   "execution_count": 17,
   "id": "0566137c",
   "metadata": {},
   "outputs": [],
   "source": [
    "path = os.getcwd()\n",
    "path_xlsx = path + '/'"
   ]
  },
  {
   "cell_type": "code",
   "execution_count": 18,
   "id": "af6c8334",
   "metadata": {},
   "outputs": [],
   "source": [
    "df = pd.read_csv(f\"{path_xlsx}/CarPrice_Assignment.csv\")"
   ]
  },
  {
   "cell_type": "code",
   "execution_count": 19,
   "id": "db36476d",
   "metadata": {},
   "outputs": [
    {
     "data": {
      "text/html": [
       "<div>\n",
       "<style scoped>\n",
       "    .dataframe tbody tr th:only-of-type {\n",
       "        vertical-align: middle;\n",
       "    }\n",
       "\n",
       "    .dataframe tbody tr th {\n",
       "        vertical-align: top;\n",
       "    }\n",
       "\n",
       "    .dataframe thead th {\n",
       "        text-align: right;\n",
       "    }\n",
       "</style>\n",
       "<table border=\"1\" class=\"dataframe\">\n",
       "  <thead>\n",
       "    <tr style=\"text-align: right;\">\n",
       "      <th></th>\n",
       "      <th>car_ID</th>\n",
       "      <th>symboling</th>\n",
       "      <th>CarName</th>\n",
       "      <th>fueltype</th>\n",
       "      <th>aspiration</th>\n",
       "      <th>doornumber</th>\n",
       "      <th>carbody</th>\n",
       "      <th>drivewheel</th>\n",
       "      <th>enginelocation</th>\n",
       "      <th>wheelbase</th>\n",
       "      <th>...</th>\n",
       "      <th>enginesize</th>\n",
       "      <th>fuelsystem</th>\n",
       "      <th>boreratio</th>\n",
       "      <th>stroke</th>\n",
       "      <th>compressionratio</th>\n",
       "      <th>horsepower</th>\n",
       "      <th>peakrpm</th>\n",
       "      <th>citympg</th>\n",
       "      <th>highwaympg</th>\n",
       "      <th>price</th>\n",
       "    </tr>\n",
       "  </thead>\n",
       "  <tbody>\n",
       "    <tr>\n",
       "      <th>0</th>\n",
       "      <td>1</td>\n",
       "      <td>3</td>\n",
       "      <td>alfa-romero giulia</td>\n",
       "      <td>gas</td>\n",
       "      <td>std</td>\n",
       "      <td>two</td>\n",
       "      <td>convertible</td>\n",
       "      <td>rwd</td>\n",
       "      <td>front</td>\n",
       "      <td>88.6</td>\n",
       "      <td>...</td>\n",
       "      <td>130</td>\n",
       "      <td>mpfi</td>\n",
       "      <td>3.47</td>\n",
       "      <td>2.68</td>\n",
       "      <td>9.0</td>\n",
       "      <td>111</td>\n",
       "      <td>5000</td>\n",
       "      <td>21</td>\n",
       "      <td>27</td>\n",
       "      <td>13495.0</td>\n",
       "    </tr>\n",
       "    <tr>\n",
       "      <th>1</th>\n",
       "      <td>2</td>\n",
       "      <td>3</td>\n",
       "      <td>alfa-romero stelvio</td>\n",
       "      <td>gas</td>\n",
       "      <td>std</td>\n",
       "      <td>two</td>\n",
       "      <td>convertible</td>\n",
       "      <td>rwd</td>\n",
       "      <td>front</td>\n",
       "      <td>88.6</td>\n",
       "      <td>...</td>\n",
       "      <td>130</td>\n",
       "      <td>mpfi</td>\n",
       "      <td>3.47</td>\n",
       "      <td>2.68</td>\n",
       "      <td>9.0</td>\n",
       "      <td>111</td>\n",
       "      <td>5000</td>\n",
       "      <td>21</td>\n",
       "      <td>27</td>\n",
       "      <td>16500.0</td>\n",
       "    </tr>\n",
       "    <tr>\n",
       "      <th>2</th>\n",
       "      <td>3</td>\n",
       "      <td>1</td>\n",
       "      <td>alfa-romero Quadrifoglio</td>\n",
       "      <td>gas</td>\n",
       "      <td>std</td>\n",
       "      <td>two</td>\n",
       "      <td>hatchback</td>\n",
       "      <td>rwd</td>\n",
       "      <td>front</td>\n",
       "      <td>94.5</td>\n",
       "      <td>...</td>\n",
       "      <td>152</td>\n",
       "      <td>mpfi</td>\n",
       "      <td>2.68</td>\n",
       "      <td>3.47</td>\n",
       "      <td>9.0</td>\n",
       "      <td>154</td>\n",
       "      <td>5000</td>\n",
       "      <td>19</td>\n",
       "      <td>26</td>\n",
       "      <td>16500.0</td>\n",
       "    </tr>\n",
       "    <tr>\n",
       "      <th>3</th>\n",
       "      <td>4</td>\n",
       "      <td>2</td>\n",
       "      <td>audi 100 ls</td>\n",
       "      <td>gas</td>\n",
       "      <td>std</td>\n",
       "      <td>four</td>\n",
       "      <td>sedan</td>\n",
       "      <td>fwd</td>\n",
       "      <td>front</td>\n",
       "      <td>99.8</td>\n",
       "      <td>...</td>\n",
       "      <td>109</td>\n",
       "      <td>mpfi</td>\n",
       "      <td>3.19</td>\n",
       "      <td>3.40</td>\n",
       "      <td>10.0</td>\n",
       "      <td>102</td>\n",
       "      <td>5500</td>\n",
       "      <td>24</td>\n",
       "      <td>30</td>\n",
       "      <td>13950.0</td>\n",
       "    </tr>\n",
       "    <tr>\n",
       "      <th>4</th>\n",
       "      <td>5</td>\n",
       "      <td>2</td>\n",
       "      <td>audi 100ls</td>\n",
       "      <td>gas</td>\n",
       "      <td>std</td>\n",
       "      <td>four</td>\n",
       "      <td>sedan</td>\n",
       "      <td>4wd</td>\n",
       "      <td>front</td>\n",
       "      <td>99.4</td>\n",
       "      <td>...</td>\n",
       "      <td>136</td>\n",
       "      <td>mpfi</td>\n",
       "      <td>3.19</td>\n",
       "      <td>3.40</td>\n",
       "      <td>8.0</td>\n",
       "      <td>115</td>\n",
       "      <td>5500</td>\n",
       "      <td>18</td>\n",
       "      <td>22</td>\n",
       "      <td>17450.0</td>\n",
       "    </tr>\n",
       "  </tbody>\n",
       "</table>\n",
       "<p>5 rows × 26 columns</p>\n",
       "</div>"
      ],
      "text/plain": [
       "   car_ID  symboling                   CarName fueltype aspiration doornumber  \\\n",
       "0       1          3        alfa-romero giulia      gas        std        two   \n",
       "1       2          3       alfa-romero stelvio      gas        std        two   \n",
       "2       3          1  alfa-romero Quadrifoglio      gas        std        two   \n",
       "3       4          2               audi 100 ls      gas        std       four   \n",
       "4       5          2                audi 100ls      gas        std       four   \n",
       "\n",
       "       carbody drivewheel enginelocation  wheelbase  ...  enginesize  \\\n",
       "0  convertible        rwd          front       88.6  ...         130   \n",
       "1  convertible        rwd          front       88.6  ...         130   \n",
       "2    hatchback        rwd          front       94.5  ...         152   \n",
       "3        sedan        fwd          front       99.8  ...         109   \n",
       "4        sedan        4wd          front       99.4  ...         136   \n",
       "\n",
       "   fuelsystem  boreratio  stroke compressionratio horsepower  peakrpm citympg  \\\n",
       "0        mpfi       3.47    2.68              9.0        111     5000      21   \n",
       "1        mpfi       3.47    2.68              9.0        111     5000      21   \n",
       "2        mpfi       2.68    3.47              9.0        154     5000      19   \n",
       "3        mpfi       3.19    3.40             10.0        102     5500      24   \n",
       "4        mpfi       3.19    3.40              8.0        115     5500      18   \n",
       "\n",
       "   highwaympg    price  \n",
       "0          27  13495.0  \n",
       "1          27  16500.0  \n",
       "2          26  16500.0  \n",
       "3          30  13950.0  \n",
       "4          22  17450.0  \n",
       "\n",
       "[5 rows x 26 columns]"
      ]
     },
     "execution_count": 19,
     "metadata": {},
     "output_type": "execute_result"
    }
   ],
   "source": [
    "df.head()"
   ]
  },
  {
   "cell_type": "code",
   "execution_count": 11,
   "id": "d6b9f8d8",
   "metadata": {},
   "outputs": [
    {
     "data": {
      "text/plain": [
       "(205, 26)"
      ]
     },
     "execution_count": 11,
     "metadata": {},
     "output_type": "execute_result"
    }
   ],
   "source": [
    "df.shape"
   ]
  },
  {
   "cell_type": "code",
   "execution_count": 12,
   "id": "a89455e5",
   "metadata": {},
   "outputs": [
    {
     "data": {
      "text/html": [
       "<div>\n",
       "<style scoped>\n",
       "    .dataframe tbody tr th:only-of-type {\n",
       "        vertical-align: middle;\n",
       "    }\n",
       "\n",
       "    .dataframe tbody tr th {\n",
       "        vertical-align: top;\n",
       "    }\n",
       "\n",
       "    .dataframe thead th {\n",
       "        text-align: right;\n",
       "    }\n",
       "</style>\n",
       "<table border=\"1\" class=\"dataframe\">\n",
       "  <thead>\n",
       "    <tr style=\"text-align: right;\">\n",
       "      <th></th>\n",
       "      <th>car_ID</th>\n",
       "      <th>symboling</th>\n",
       "      <th>wheelbase</th>\n",
       "      <th>carlength</th>\n",
       "      <th>carwidth</th>\n",
       "      <th>carheight</th>\n",
       "      <th>curbweight</th>\n",
       "      <th>enginesize</th>\n",
       "      <th>boreratio</th>\n",
       "      <th>stroke</th>\n",
       "      <th>compressionratio</th>\n",
       "      <th>horsepower</th>\n",
       "      <th>peakrpm</th>\n",
       "      <th>citympg</th>\n",
       "      <th>highwaympg</th>\n",
       "      <th>price</th>\n",
       "    </tr>\n",
       "  </thead>\n",
       "  <tbody>\n",
       "    <tr>\n",
       "      <th>count</th>\n",
       "      <td>205.000000</td>\n",
       "      <td>205.000000</td>\n",
       "      <td>205.000000</td>\n",
       "      <td>205.000000</td>\n",
       "      <td>205.000000</td>\n",
       "      <td>205.000000</td>\n",
       "      <td>205.000000</td>\n",
       "      <td>205.000000</td>\n",
       "      <td>205.000000</td>\n",
       "      <td>205.000000</td>\n",
       "      <td>205.000000</td>\n",
       "      <td>205.000000</td>\n",
       "      <td>205.000000</td>\n",
       "      <td>205.000000</td>\n",
       "      <td>205.000000</td>\n",
       "      <td>205.000000</td>\n",
       "    </tr>\n",
       "    <tr>\n",
       "      <th>mean</th>\n",
       "      <td>103.000000</td>\n",
       "      <td>0.834146</td>\n",
       "      <td>98.756585</td>\n",
       "      <td>174.049268</td>\n",
       "      <td>65.907805</td>\n",
       "      <td>53.724878</td>\n",
       "      <td>2555.565854</td>\n",
       "      <td>126.907317</td>\n",
       "      <td>3.329756</td>\n",
       "      <td>3.255415</td>\n",
       "      <td>10.142537</td>\n",
       "      <td>104.117073</td>\n",
       "      <td>5125.121951</td>\n",
       "      <td>25.219512</td>\n",
       "      <td>30.751220</td>\n",
       "      <td>13276.710571</td>\n",
       "    </tr>\n",
       "    <tr>\n",
       "      <th>std</th>\n",
       "      <td>59.322565</td>\n",
       "      <td>1.245307</td>\n",
       "      <td>6.021776</td>\n",
       "      <td>12.337289</td>\n",
       "      <td>2.145204</td>\n",
       "      <td>2.443522</td>\n",
       "      <td>520.680204</td>\n",
       "      <td>41.642693</td>\n",
       "      <td>0.270844</td>\n",
       "      <td>0.313597</td>\n",
       "      <td>3.972040</td>\n",
       "      <td>39.544167</td>\n",
       "      <td>476.985643</td>\n",
       "      <td>6.542142</td>\n",
       "      <td>6.886443</td>\n",
       "      <td>7988.852332</td>\n",
       "    </tr>\n",
       "    <tr>\n",
       "      <th>min</th>\n",
       "      <td>1.000000</td>\n",
       "      <td>-2.000000</td>\n",
       "      <td>86.600000</td>\n",
       "      <td>141.100000</td>\n",
       "      <td>60.300000</td>\n",
       "      <td>47.800000</td>\n",
       "      <td>1488.000000</td>\n",
       "      <td>61.000000</td>\n",
       "      <td>2.540000</td>\n",
       "      <td>2.070000</td>\n",
       "      <td>7.000000</td>\n",
       "      <td>48.000000</td>\n",
       "      <td>4150.000000</td>\n",
       "      <td>13.000000</td>\n",
       "      <td>16.000000</td>\n",
       "      <td>5118.000000</td>\n",
       "    </tr>\n",
       "    <tr>\n",
       "      <th>25%</th>\n",
       "      <td>52.000000</td>\n",
       "      <td>0.000000</td>\n",
       "      <td>94.500000</td>\n",
       "      <td>166.300000</td>\n",
       "      <td>64.100000</td>\n",
       "      <td>52.000000</td>\n",
       "      <td>2145.000000</td>\n",
       "      <td>97.000000</td>\n",
       "      <td>3.150000</td>\n",
       "      <td>3.110000</td>\n",
       "      <td>8.600000</td>\n",
       "      <td>70.000000</td>\n",
       "      <td>4800.000000</td>\n",
       "      <td>19.000000</td>\n",
       "      <td>25.000000</td>\n",
       "      <td>7788.000000</td>\n",
       "    </tr>\n",
       "    <tr>\n",
       "      <th>50%</th>\n",
       "      <td>103.000000</td>\n",
       "      <td>1.000000</td>\n",
       "      <td>97.000000</td>\n",
       "      <td>173.200000</td>\n",
       "      <td>65.500000</td>\n",
       "      <td>54.100000</td>\n",
       "      <td>2414.000000</td>\n",
       "      <td>120.000000</td>\n",
       "      <td>3.310000</td>\n",
       "      <td>3.290000</td>\n",
       "      <td>9.000000</td>\n",
       "      <td>95.000000</td>\n",
       "      <td>5200.000000</td>\n",
       "      <td>24.000000</td>\n",
       "      <td>30.000000</td>\n",
       "      <td>10295.000000</td>\n",
       "    </tr>\n",
       "    <tr>\n",
       "      <th>75%</th>\n",
       "      <td>154.000000</td>\n",
       "      <td>2.000000</td>\n",
       "      <td>102.400000</td>\n",
       "      <td>183.100000</td>\n",
       "      <td>66.900000</td>\n",
       "      <td>55.500000</td>\n",
       "      <td>2935.000000</td>\n",
       "      <td>141.000000</td>\n",
       "      <td>3.580000</td>\n",
       "      <td>3.410000</td>\n",
       "      <td>9.400000</td>\n",
       "      <td>116.000000</td>\n",
       "      <td>5500.000000</td>\n",
       "      <td>30.000000</td>\n",
       "      <td>34.000000</td>\n",
       "      <td>16503.000000</td>\n",
       "    </tr>\n",
       "    <tr>\n",
       "      <th>max</th>\n",
       "      <td>205.000000</td>\n",
       "      <td>3.000000</td>\n",
       "      <td>120.900000</td>\n",
       "      <td>208.100000</td>\n",
       "      <td>72.300000</td>\n",
       "      <td>59.800000</td>\n",
       "      <td>4066.000000</td>\n",
       "      <td>326.000000</td>\n",
       "      <td>3.940000</td>\n",
       "      <td>4.170000</td>\n",
       "      <td>23.000000</td>\n",
       "      <td>288.000000</td>\n",
       "      <td>6600.000000</td>\n",
       "      <td>49.000000</td>\n",
       "      <td>54.000000</td>\n",
       "      <td>45400.000000</td>\n",
       "    </tr>\n",
       "  </tbody>\n",
       "</table>\n",
       "</div>"
      ],
      "text/plain": [
       "           car_ID   symboling   wheelbase   carlength    carwidth   carheight  \\\n",
       "count  205.000000  205.000000  205.000000  205.000000  205.000000  205.000000   \n",
       "mean   103.000000    0.834146   98.756585  174.049268   65.907805   53.724878   \n",
       "std     59.322565    1.245307    6.021776   12.337289    2.145204    2.443522   \n",
       "min      1.000000   -2.000000   86.600000  141.100000   60.300000   47.800000   \n",
       "25%     52.000000    0.000000   94.500000  166.300000   64.100000   52.000000   \n",
       "50%    103.000000    1.000000   97.000000  173.200000   65.500000   54.100000   \n",
       "75%    154.000000    2.000000  102.400000  183.100000   66.900000   55.500000   \n",
       "max    205.000000    3.000000  120.900000  208.100000   72.300000   59.800000   \n",
       "\n",
       "        curbweight  enginesize   boreratio      stroke  compressionratio  \\\n",
       "count   205.000000  205.000000  205.000000  205.000000        205.000000   \n",
       "mean   2555.565854  126.907317    3.329756    3.255415         10.142537   \n",
       "std     520.680204   41.642693    0.270844    0.313597          3.972040   \n",
       "min    1488.000000   61.000000    2.540000    2.070000          7.000000   \n",
       "25%    2145.000000   97.000000    3.150000    3.110000          8.600000   \n",
       "50%    2414.000000  120.000000    3.310000    3.290000          9.000000   \n",
       "75%    2935.000000  141.000000    3.580000    3.410000          9.400000   \n",
       "max    4066.000000  326.000000    3.940000    4.170000         23.000000   \n",
       "\n",
       "       horsepower      peakrpm     citympg  highwaympg         price  \n",
       "count  205.000000   205.000000  205.000000  205.000000    205.000000  \n",
       "mean   104.117073  5125.121951   25.219512   30.751220  13276.710571  \n",
       "std     39.544167   476.985643    6.542142    6.886443   7988.852332  \n",
       "min     48.000000  4150.000000   13.000000   16.000000   5118.000000  \n",
       "25%     70.000000  4800.000000   19.000000   25.000000   7788.000000  \n",
       "50%     95.000000  5200.000000   24.000000   30.000000  10295.000000  \n",
       "75%    116.000000  5500.000000   30.000000   34.000000  16503.000000  \n",
       "max    288.000000  6600.000000   49.000000   54.000000  45400.000000  "
      ]
     },
     "execution_count": 12,
     "metadata": {},
     "output_type": "execute_result"
    }
   ],
   "source": [
    "df.describe()"
   ]
  },
  {
   "cell_type": "code",
   "execution_count": 13,
   "id": "5f7331ff",
   "metadata": {},
   "outputs": [
    {
     "name": "stdout",
     "output_type": "stream",
     "text": [
      "<class 'pandas.core.frame.DataFrame'>\n",
      "RangeIndex: 205 entries, 0 to 204\n",
      "Data columns (total 26 columns):\n",
      " #   Column            Non-Null Count  Dtype  \n",
      "---  ------            --------------  -----  \n",
      " 0   car_ID            205 non-null    int64  \n",
      " 1   symboling         205 non-null    int64  \n",
      " 2   CarName           205 non-null    object \n",
      " 3   fueltype          205 non-null    object \n",
      " 4   aspiration        205 non-null    object \n",
      " 5   doornumber        205 non-null    object \n",
      " 6   carbody           205 non-null    object \n",
      " 7   drivewheel        205 non-null    object \n",
      " 8   enginelocation    205 non-null    object \n",
      " 9   wheelbase         205 non-null    float64\n",
      " 10  carlength         205 non-null    float64\n",
      " 11  carwidth          205 non-null    float64\n",
      " 12  carheight         205 non-null    float64\n",
      " 13  curbweight        205 non-null    int64  \n",
      " 14  enginetype        205 non-null    object \n",
      " 15  cylindernumber    205 non-null    object \n",
      " 16  enginesize        205 non-null    int64  \n",
      " 17  fuelsystem        205 non-null    object \n",
      " 18  boreratio         205 non-null    float64\n",
      " 19  stroke            205 non-null    float64\n",
      " 20  compressionratio  205 non-null    float64\n",
      " 21  horsepower        205 non-null    int64  \n",
      " 22  peakrpm           205 non-null    int64  \n",
      " 23  citympg           205 non-null    int64  \n",
      " 24  highwaympg        205 non-null    int64  \n",
      " 25  price             205 non-null    float64\n",
      "dtypes: float64(8), int64(8), object(10)\n",
      "memory usage: 41.8+ KB\n"
     ]
    }
   ],
   "source": [
    "df.info()"
   ]
  },
  {
   "cell_type": "markdown",
   "id": "ac660360",
   "metadata": {},
   "source": [
    "### Etapa 2: Limpeza e preparação de dados\n",
    "\n",
    "Dividindo o nome da empresa (company name) na coluna Carname\n",
    "Veja que na coluna CarName, temos, por exemplo, \"alfa-romero stelvio\". Portanto, podemos procurar o espaço e deixar somente o nome da companhia."
   ]
  },
  {
   "cell_type": "code",
   "execution_count": 21,
   "id": "4ef27e8f",
   "metadata": {},
   "outputs": [],
   "source": [
    "CompanyName = df['CarName'].apply(lambda x : x.split(' ')[0])\n",
    "df.insert(3,\"CompanyName\",CompanyName) #insere na coluna 3 a coluna CompannyName\n",
    "df.drop(['CarName'],axis=1,inplace=True) #exclui coluna CarName\n"
   ]
  },
  {
   "cell_type": "code",
   "execution_count": 22,
   "id": "ab010090",
   "metadata": {},
   "outputs": [
    {
     "data": {
      "text/plain": [
       "array(['alfa-romero', 'audi', 'bmw', 'chevrolet', 'dodge', 'honda',\n",
       "       'isuzu', 'jaguar', 'maxda', 'mazda', 'buick', 'mercury',\n",
       "       'mitsubishi', 'Nissan', 'nissan', 'peugeot', 'plymouth', 'porsche',\n",
       "       'porcshce', 'renault', 'saab', 'subaru', 'toyota', 'toyouta',\n",
       "       'vokswagen', 'volkswagen', 'vw', 'volvo'], dtype=object)"
      ]
     },
     "execution_count": 22,
     "metadata": {},
     "output_type": "execute_result"
    }
   ],
   "source": [
    "df['CompanyName'].unique()"
   ]
  },
  {
   "cell_type": "markdown",
   "id": "16f40ce5",
   "metadata": {},
   "source": [
    "### Etapa 3: Procure por nomes de companhia que estão errados e corrija, utilizando o replace. \n",
    "Exemplo: cars.CompanyName.unique() para ver os nomes da coluna\n",
    "\n",
    "Exemplo: cars.CompanyName.replace('maxda','mazda', inplace=True)"
   ]
  },
  {
   "cell_type": "code",
   "execution_count": 25,
   "id": "1c838ba1",
   "metadata": {},
   "outputs": [
    {
     "data": {
      "text/plain": [
       "array(['alfa-romero', 'audi', 'bmw', 'chevrolet', 'dodge', 'honda',\n",
       "       'isuzu', 'jaguar', 'mazda', 'buick', 'mercury', 'mitsubishi',\n",
       "       'Nissan', 'nissan', 'peugeot', 'plymouth', 'porsche', 'porcshce',\n",
       "       'renault', 'saab', 'subaru', 'toyota', 'toyouta', 'vokswagen',\n",
       "       'volkswagen', 'vw', 'volvo'], dtype=object)"
      ]
     },
     "execution_count": 25,
     "metadata": {},
     "output_type": "execute_result"
    }
   ],
   "source": [
    "df.CompanyName.replace('maxda','mazda', inplace=True)\n",
    "df['CompanyName'].unique()"
   ]
  },
  {
   "cell_type": "markdown",
   "id": "ba718820",
   "metadata": {},
   "source": [
    "### Etapa 4: Busque o nome das colunas e, se preferir, traduza"
   ]
  },
  {
   "cell_type": "code",
   "execution_count": 26,
   "id": "b66ca0fe",
   "metadata": {},
   "outputs": [
    {
     "data": {
      "text/plain": [
       "Index(['car_ID', 'symboling', 'CompanyName', 'fueltype', 'aspiration',\n",
       "       'doornumber', 'carbody', 'drivewheel', 'enginelocation', 'wheelbase',\n",
       "       'carlength', 'carwidth', 'carheight', 'curbweight', 'enginetype',\n",
       "       'cylindernumber', 'enginesize', 'fuelsystem', 'boreratio', 'stroke',\n",
       "       'compressionratio', 'horsepower', 'peakrpm', 'citympg', 'highwaympg',\n",
       "       'price'],\n",
       "      dtype='object')"
      ]
     },
     "execution_count": 26,
     "metadata": {},
     "output_type": "execute_result"
    }
   ],
   "source": [
    "df.columns\n",
    "# df.rename(columns={'car_ID': 'carro_ID', \n",
    "#                     'CompanyName': 'NomeDaEmpresa',\n",
    "#                     'price': 'Preco'}, inplace=True)\n"
   ]
  },
  {
   "cell_type": "markdown",
   "id": "6a70d07f",
   "metadata": {},
   "source": [
    "### Etapa 5: Procure se há valores duplicados usando o loc"
   ]
  },
  {
   "cell_type": "code",
   "execution_count": 32,
   "id": "81ed23a7",
   "metadata": {},
   "outputs": [
    {
     "name": "stdout",
     "output_type": "stream",
     "text": [
      "Empty DataFrame\n",
      "Columns: [car_ID, symboling, CompanyName, fueltype, aspiration, doornumber, carbody, drivewheel, enginelocation, wheelbase, carlength, carwidth, carheight, curbweight, enginetype, cylindernumber, enginesize, fuelsystem, boreratio, stroke, compressionratio, horsepower, peakrpm, citympg, highwaympg, price]\n",
      "Index: []\n",
      "\n",
      "[0 rows x 26 columns]\n",
      "     car_ID  symboling  CompanyName fueltype aspiration doornumber    carbody  \\\n",
      "2         3          1  alfa-romero      gas        std        two  hatchback   \n",
      "36       37          0        honda      gas        std       four      wagon   \n",
      "45       46          0        isuzu      gas        std       four      sedan   \n",
      "59       60          1        mazda      gas        std        two  hatchback   \n",
      "88       89         -1   mitsubishi      gas        std       four      sedan   \n",
      "103     104          0       nissan      gas        std       four      sedan   \n",
      "118     119          1     plymouth      gas        std        two  hatchback   \n",
      "119     120          1     plymouth      gas      turbo        two  hatchback   \n",
      "120     121          1     plymouth      gas        std       four  hatchback   \n",
      "121     122          1     plymouth      gas        std       four      sedan   \n",
      "122     123          1     plymouth      gas        std       four      sedan   \n",
      "123     124         -1     plymouth      gas        std       four      wagon   \n",
      "136     137          3         saab      gas      turbo        two  hatchback   \n",
      "158     159          0       toyota   diesel        std       four      sedan   \n",
      "182     183          2    vokswagen   diesel        std        two      sedan   \n",
      "186     187          2   volkswagen      gas        std       four      sedan   \n",
      "\n",
      "    drivewheel enginelocation  wheelbase  ...  enginesize  fuelsystem  \\\n",
      "2          rwd          front       94.5  ...         152        mpfi   \n",
      "36         fwd          front       96.5  ...          92        1bbl   \n",
      "45         fwd          front       94.5  ...          90        2bbl   \n",
      "59         fwd          front       98.8  ...         122        2bbl   \n",
      "88         fwd          front       96.3  ...         110        spdi   \n",
      "103        fwd          front      100.4  ...         181        mpfi   \n",
      "118        fwd          front       93.7  ...          90        2bbl   \n",
      "119        fwd          front       93.7  ...          98        spdi   \n",
      "120        fwd          front       93.7  ...          90        2bbl   \n",
      "121        fwd          front       93.7  ...          90        2bbl   \n",
      "122        fwd          front       93.7  ...          98        2bbl   \n",
      "123        fwd          front      103.3  ...         122        2bbl   \n",
      "136        fwd          front       99.1  ...         121        mpfi   \n",
      "158        fwd          front       95.7  ...         110         idi   \n",
      "182        fwd          front       97.3  ...          97         idi   \n",
      "186        fwd          front       97.3  ...         109        mpfi   \n",
      "\n",
      "     boreratio  stroke compressionratio horsepower  peakrpm citympg  \\\n",
      "2         2.68    3.47              9.0        154     5000      19   \n",
      "36        2.92    3.41              9.2         76     6000      30   \n",
      "45        3.03    3.11              9.6         70     5400      38   \n",
      "59        3.39    3.39              8.6         84     4800      26   \n",
      "88        3.17    3.46              7.5        116     5500      23   \n",
      "103       3.43    3.27              9.0        152     5200      19   \n",
      "118       2.97    3.23              9.4         68     5500      37   \n",
      "119       3.03    3.39              7.6        102     5500      24   \n",
      "120       2.97    3.23              9.4         68     5500      31   \n",
      "121       2.97    3.23              9.4         68     5500      31   \n",
      "122       2.97    3.23              9.4         68     5500      31   \n",
      "123       3.35    3.46              8.5         88     5000      24   \n",
      "136       3.54    3.07              9.0        160     5500      19   \n",
      "158       3.27    3.35             22.5         56     4500      34   \n",
      "182       3.01    3.40             23.0         52     4800      37   \n",
      "186       3.19    3.40              9.0         85     5250      27   \n",
      "\n",
      "     highwaympg    price  \n",
      "2            26  16500.0  \n",
      "36           34   7295.0  \n",
      "45           43   8916.5  \n",
      "59           32   8845.0  \n",
      "88           30   9279.0  \n",
      "103          25  13499.0  \n",
      "118          41   5572.0  \n",
      "119          30   7957.0  \n",
      "120          38   6229.0  \n",
      "121          38   6692.0  \n",
      "122          38   7609.0  \n",
      "123          30   8921.0  \n",
      "136          26  18150.0  \n",
      "158          36   7898.0  \n",
      "182          46   7775.0  \n",
      "186          34   8495.0  \n",
      "\n",
      "[16 rows x 26 columns]\n"
     ]
    }
   ],
   "source": [
    "# Linhas inteiras duplicadas\n",
    "duplicados = df.loc[df.duplicated()]\n",
    "\n",
    "print(duplicados)\n",
    "\n",
    "# Coluna específica duplicadas\n",
    "duplicados2 = df.loc[df.duplicated(subset='price')]\n",
    "\n",
    "print(duplicados2)\n"
   ]
  },
  {
   "cell_type": "markdown",
   "id": "e1027a8a",
   "metadata": {},
   "source": [
    "### Etapa 6: Procure se há valores faltantes"
   ]
  },
  {
   "cell_type": "code",
   "execution_count": 33,
   "id": "a1b9dfef",
   "metadata": {},
   "outputs": [
    {
     "name": "stdout",
     "output_type": "stream",
     "text": [
      "car_ID              0\n",
      "symboling           0\n",
      "CompanyName         0\n",
      "fueltype            0\n",
      "aspiration          0\n",
      "doornumber          0\n",
      "carbody             0\n",
      "drivewheel          0\n",
      "enginelocation      0\n",
      "wheelbase           0\n",
      "carlength           0\n",
      "carwidth            0\n",
      "carheight           0\n",
      "curbweight          0\n",
      "enginetype          0\n",
      "cylindernumber      0\n",
      "enginesize          0\n",
      "fuelsystem          0\n",
      "boreratio           0\n",
      "stroke              0\n",
      "compressionratio    0\n",
      "horsepower          0\n",
      "peakrpm             0\n",
      "citympg             0\n",
      "highwaympg          0\n",
      "price               0\n",
      "dtype: int64\n"
     ]
    }
   ],
   "source": [
    "print(df.isna().sum())\n"
   ]
  },
  {
   "cell_type": "markdown",
   "id": "142f2931",
   "metadata": {},
   "source": [
    "### Etapa 7: Visualize os preços (faça plots)\n",
    "- distribuição do preço dos carros por histograma. Pode usar o seaborn se preferir.\n",
    "- propagação do preço dos carros por boxplot."
   ]
  },
  {
   "cell_type": "code",
   "execution_count": 34,
   "id": "041f2152",
   "metadata": {},
   "outputs": [
    {
     "data": {
      "image/png": "[encoded data removed]",
      "text/plain": [
       "<Figure size 640x480 with 1 Axes>"
      ]
     },
     "metadata": {},
     "output_type": "display_data"
    }
   ],
   "source": [
    "# plotar um histograma dos preços\n",
    "plt.hist(df['price'], bins=50)\n",
    "plt.xlabel('Preço')\n",
    "plt.ylabel('Frequência')\n",
    "plt.title('Histograma de preços')\n",
    "plt.show()\n"
   ]
  },
  {
   "cell_type": "code",
   "execution_count": 35,
   "id": "9f334d3d",
   "metadata": {},
   "outputs": [
    {
     "data": {
      "image/png": "[encoded data removed]",
      "text/plain": [
       "<Figure size 640x480 with 1 Axes>"
      ]
     },
     "metadata": {},
     "output_type": "display_data"
    }
   ],
   "source": [
    "# plota um boxplot dos preços\n",
    "plt.boxplot(df['price'])\n",
    "plt.xlabel('Preço')\n",
    "plt.title('Boxplot de preços')\n",
    "plt.show()\n"
   ]
  },
  {
   "cell_type": "markdown",
   "id": "7f1cbd7c",
   "metadata": {},
   "source": [
    "### Visualize o histograma para verificar os nomes das empresa e frequencia, o combustivel e os tipos de carros"
   ]
  },
  {
   "cell_type": "code",
   "execution_count": 36,
   "id": "21952f22",
   "metadata": {},
   "outputs": [
    {
     "data": {
      "text/plain": [
       "Index(['car_ID', 'symboling', 'CompanyName', 'fueltype', 'aspiration',\n",
       "       'doornumber', 'carbody', 'drivewheel', 'enginelocation', 'wheelbase',\n",
       "       'carlength', 'carwidth', 'carheight', 'curbweight', 'enginetype',\n",
       "       'cylindernumber', 'enginesize', 'fuelsystem', 'boreratio', 'stroke',\n",
       "       'compressionratio', 'horsepower', 'peakrpm', 'citympg', 'highwaympg',\n",
       "       'price'],\n",
       "      dtype='object')"
      ]
     },
     "execution_count": 36,
     "metadata": {},
     "output_type": "execute_result"
    }
   ],
   "source": [
    "df.columns"
   ]
  },
  {
   "cell_type": "code",
   "execution_count": 41,
   "id": "8059018e",
   "metadata": {},
   "outputs": [
    {
     "data": {
      "image/png": "[encoded data removed]",
      "text/plain": [
       "<Figure size 640x480 with 1 Axes>"
      ]
     },
     "metadata": {},
     "output_type": "display_data"
    }
   ],
   "source": [
    "plt.xticks(rotation=45, color='black', fontsize=6) \n",
    "\n",
    "# plota um histograma para cada coluna\n",
    "plt.hist([df['CompanyName'], df['fueltype'], df['enginetype']], bins=10)\n",
    "plt.xlabel('Valor')\n",
    "plt.ylabel('Frequência')\n",
    "plt.title('Histograma das colunas CompanyName, fueltype e enginetype')\n",
    "plt.legend(['CompanyName', 'fueltype', 'enginetype'])\n",
    "plt.show()\n"
   ]
  },
  {
   "cell_type": "markdown",
   "id": "865baade",
   "metadata": {},
   "source": [
    "### Monte mais um tipo de visualização, por exemplo Symboling x Price, Engine x Price..."
   ]
  },
  {
   "cell_type": "code",
   "execution_count": 42,
   "id": "d83fd92d",
   "metadata": {},
   "outputs": [
    {
     "data": {
      "image/png": "[encoded data removed]",
      "text/plain": [
       "<Figure size 640x480 with 1 Axes>"
      ]
     },
     "metadata": {},
     "output_type": "display_data"
    }
   ],
   "source": [
    "# Plotar o gráfico de boxplot\n",
    "sns.boxplot(x='symboling', y='price', data=df)\n",
    "plt.show()\n",
    "\n"
   ]
  },
  {
   "cell_type": "code",
   "execution_count": 43,
   "id": "b36af2b7",
   "metadata": {},
   "outputs": [
    {
     "data": {
      "image/png": "[encoded data removed]",
      "text/plain": [
       "<Figure size 640x480 with 1 Axes>"
      ]
     },
     "metadata": {},
     "output_type": "display_data"
    }
   ],
   "source": [
    "# Plotar o gráfico de boxplot\n",
    "sns.boxplot(x='enginetype', y='price', data=df)\n",
    "plt.show()"
   ]
  },
  {
   "cell_type": "markdown",
   "id": "685f212c",
   "metadata": {},
   "source": [
    "### Etapa 8: Excluir colunas que não serão usadas no treino"
   ]
  },
  {
   "cell_type": "code",
   "execution_count": 76,
   "id": "06db9bab",
   "metadata": {},
   "outputs": [
    {
     "data": {
      "text/plain": [
       "Index(['car_ID', 'symboling', 'CompanyName', 'fueltype', 'aspiration',\n",
       "       'doornumber', 'carbody', 'drivewheel', 'enginelocation', 'wheelbase',\n",
       "       'carlength', 'carwidth', 'carheight', 'curbweight', 'enginetype',\n",
       "       'cylindernumber', 'enginesize', 'fuelsystem', 'boreratio', 'horsepower',\n",
       "       'peakrpm', 'citympg', 'highwaympg', 'price', 'company_num'],\n",
       "      dtype='object')"
      ]
     },
     "execution_count": 76,
     "metadata": {},
     "output_type": "execute_result"
    }
   ],
   "source": [
    "df.columns"
   ]
  },
  {
   "cell_type": "code",
   "execution_count": 74,
   "id": "9af5d4b3",
   "metadata": {},
   "outputs": [],
   "source": [
    "df = df.drop(['compressionratio', 'stroke'], axis=1) "
   ]
  },
  {
   "cell_type": "code",
   "execution_count": 75,
   "id": "858c72a9",
   "metadata": {},
   "outputs": [
    {
     "data": {
      "text/plain": [
       "Index(['car_ID', 'symboling', 'CompanyName', 'fueltype', 'aspiration',\n",
       "       'doornumber', 'carbody', 'drivewheel', 'enginelocation', 'wheelbase',\n",
       "       'carlength', 'carwidth', 'carheight', 'curbweight', 'enginetype',\n",
       "       'cylindernumber', 'enginesize', 'fuelsystem', 'boreratio', 'horsepower',\n",
       "       'peakrpm', 'citympg', 'highwaympg', 'price', 'company_num'],\n",
       "      dtype='object')"
      ]
     },
     "execution_count": 75,
     "metadata": {},
     "output_type": "execute_result"
    }
   ],
   "source": [
    "df.columns"
   ]
  },
  {
   "cell_type": "markdown",
   "id": "a782b631",
   "metadata": {},
   "source": [
    "### Etapa 9: Transformar variáveis categóricas em numéricas"
   ]
  },
  {
   "cell_type": "code",
   "execution_count": 44,
   "id": "4a6e727c",
   "metadata": {},
   "outputs": [],
   "source": [
    "from sklearn.preprocessing import LabelEncoder\n",
    "\n",
    "le = LabelEncoder()\n",
    "df['company_num'] = le.fit_transform(df['CompanyName'])\n"
   ]
  },
  {
   "cell_type": "code",
   "execution_count": 45,
   "id": "39d8ee97",
   "metadata": {},
   "outputs": [
    {
     "data": {
      "text/plain": [
       "0       1\n",
       "1       1\n",
       "2       1\n",
       "3       2\n",
       "4       2\n",
       "       ..\n",
       "200    25\n",
       "201    25\n",
       "202    25\n",
       "203    25\n",
       "204    25\n",
       "Name: company_num, Length: 205, dtype: int32"
      ]
     },
     "execution_count": 45,
     "metadata": {},
     "output_type": "execute_result"
    }
   ],
   "source": [
    "df['company_num']"
   ]
  },
  {
   "cell_type": "markdown",
   "id": "c15c3660",
   "metadata": {},
   "source": [
    "### Etapa 10: Aplique o KNN como sistema preditivo do preço, procurando o valor de K ideal. \n",
    "Faça também o calculo do erro, e simule predições de dados desconhecidos."
   ]
  },
  {
   "cell_type": "code",
   "execution_count": 57,
   "id": "11de3e85",
   "metadata": {},
   "outputs": [],
   "source": [
    "from sklearn.model_selection import train_test_split\n",
    "from sklearn.preprocessing import StandardScaler\n",
    "from sklearn.neighbors import KNeighborsRegressor\n",
    "from sklearn.model_selection import GridSearchCV\n",
    "from sklearn.metrics import mean_absolute_error, mean_squared_error\n",
    "from sklearn.feature_extraction.text import TfidfVectorizer"
   ]
  },
  {
   "cell_type": "code",
   "execution_count": 69,
   "id": "8bbfc203",
   "metadata": {},
   "outputs": [
    {
     "name": "stdout",
     "output_type": "stream",
     "text": [
      "Melhor valor de K: 2\n"
     ]
    }
   ],
   "source": [
    "x = df['company_num']\n",
    "y = df['price']\n",
    "\n",
    "X_train, X_test, y_train, y_test = train_test_split(X, y, test_size=0.3)\n",
    "\n",
    "scaler = StandardScaler()\n",
    "X_train = scaler.fit_transform(X_train.reshape(-1, 1))\n",
    "\n",
    "param_grid = {'n_neighbors': np.arange(1, 50)}\n",
    "knn = KNeighborsRegressor()\n",
    "knn_cv = GridSearchCV(knn, param_grid, cv=5)\n",
    "knn_cv.fit(X_train, y_train)\n",
    "\n",
    "print(\"Melhor valor de K:\", knn_cv.best_params_['n_neighbors'])\n"
   ]
  },
  {
   "cell_type": "code",
   "execution_count": 71,
   "id": "d5fe34db",
   "metadata": {},
   "outputs": [
    {
     "name": "stdout",
     "output_type": "stream",
     "text": [
      "MAE: 3160.1666612903223\n",
      "MSE: 17499677.306272402\n"
     ]
    }
   ],
   "source": [
    "knn = KNeighborsRegressor(n_neighbors=knn_cv.best_params_['n_neighbors'])\n",
    "knn.fit(X_train, y_train)\n",
    "\n",
    "X_test = scaler.transform(X_test.reshape(-1, 1))\n",
    "y_pred = knn.predict(X_test)\n",
    "\n",
    "print(\"MAE:\", mean_absolute_error(y_test, y_pred))\n",
    "print(\"MSE:\", mean_squared_error(y_test, y_pred))\n"
   ]
  },
  {
   "cell_type": "markdown",
   "id": "c777578a",
   "metadata": {},
   "source": [
    "### Faça um experimento com um vetor \"desconhecido\". Pegue um vetor da base e simule a predição. Lembre de realizar os tratamentos antes."
   ]
  },
  {
   "cell_type": "code",
   "execution_count": null,
   "id": "a391dca3",
   "metadata": {},
   "outputs": [],
   "source": []
  },
  {
   "cell_type": "markdown",
   "id": "a7440316",
   "metadata": {},
   "source": [
    "### Transforme essa base de dados, para criar 5 categorias de carros conforme o preço. Exemplo: 5000 a 10000 são carros categoria A, de 10000 a 20000, categoria B, e assim por diante até a ultima categoria abranger o valor max do preço.\n",
    "\n"
   ]
  },
  {
   "cell_type": "code",
   "execution_count": null,
   "id": "bb12e780",
   "metadata": {},
   "outputs": [],
   "source": []
  },
  {
   "cell_type": "markdown",
   "id": "586686fb",
   "metadata": {},
   "source": [
    "### Separe a base com 70% treino e 30% teste. Faça o treinamento utilizando Árvore de decisão para classificar um carro conforme a categoria."
   ]
  },
  {
   "cell_type": "code",
   "execution_count": null,
   "id": "34b87c18",
   "metadata": {},
   "outputs": [],
   "source": []
  },
  {
   "cell_type": "markdown",
   "id": "e5833804",
   "metadata": {},
   "source": [
    "### Faça a análise dos resultados por acurácia, precisão e recall. "
   ]
  },
  {
   "cell_type": "code",
   "execution_count": null,
   "id": "13db7901",
   "metadata": {},
   "outputs": [],
   "source": []
  }
 ],
 "metadata": {
  "kernelspec": {
   "display_name": "Python 3",
   "language": "python",
   "name": "python3"
  },
  "language_info": {
   "codemirror_mode": {
    "name": "ipython",
    "version": 3
   },
   "file_extension": ".py",
   "mimetype": "text/x-python",
   "name": "python",
   "nbconvert_exporter": "python",
   "pygments_lexer": "ipython3",
   "version": "3.10.6"
  }
 },
 "nbformat": 4,
 "nbformat_minor": 5
}
